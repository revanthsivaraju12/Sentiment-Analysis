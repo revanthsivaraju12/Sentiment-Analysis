{
  "nbformat": 4,
  "nbformat_minor": 0,
  "metadata": {
    "colab": {
      "name": "Sentiment analysis.ipynb",
      "version": "0.3.2",
      "provenance": []
    },
    "kernelspec": {
      "name": "python3",
      "display_name": "Python 3"
    }
  },
  "cells": [
    {
      "cell_type": "code",
      "metadata": {
        "id": "AUJnJ35dFACm",
        "colab_type": "code",
        "colab": {
          "base_uri": "https://localhost:8080/",
          "height": 101
        },
        "outputId": "afb9e8b4-08c9-404c-fbad-e995e8748662"
      },
      "source": [
        "\n",
        "import nltk \n",
        "import pandas as pd\n",
        "from textblob import TextBlob\n",
        "from nltk.corpus import stopwords\n",
        "from nltk.stem import PorterStemmer\n",
        "from textblob import Word\n",
        "from nltk.tokenize import word_tokenize\n",
        "from nltk.util import ngrams\n",
        "import matplotlib.pyplot as plt\n",
        "import re\n",
        "from wordcloud import WordCloud, STOPWORDS\n",
        "from sklearn.feature_extraction.text import CountVectorizer,TfidfVectorizer\n",
        "from sklearn.decomposition import LatentDirichletAllocation\n",
        "import sklearn.feature_extraction.text as text\n",
        "from sklearn.decomposition import NMF, LatentDirichletAllocation, TruncatedSVD\n",
        "from sklearn.feature_extraction.text import CountVectorizer\n",
        "import re\n",
        "import nltk\n",
        "nltk.download('punkt')\n",
        "nltk.download('wordnet')"
      ],
      "execution_count": 1,
      "outputs": [
        {
          "output_type": "stream",
          "text": [
            "[nltk_data] Downloading package punkt to /root/nltk_data...\n",
            "[nltk_data]   Package punkt is already up-to-date!\n",
            "[nltk_data] Downloading package wordnet to /root/nltk_data...\n",
            "[nltk_data]   Package wordnet is already up-to-date!\n"
          ],
          "name": "stdout"
        },
        {
          "output_type": "execute_result",
          "data": {
            "text/plain": [
              "True"
            ]
          },
          "metadata": {
            "tags": []
          },
          "execution_count": 1
        }
      ]
    },
    {
      "cell_type": "code",
      "metadata": {
        "id": "1FzhyCpiFLlg",
        "colab_type": "code",
        "colab": {}
      },
      "source": [
        "train1 = pd.read_csv('Tweets_NLP.csv')"
      ],
      "execution_count": 0,
      "outputs": []
    },
    {
      "cell_type": "code",
      "metadata": {
        "id": "dd-d-NJmFR2L",
        "colab_type": "code",
        "colab": {}
      },
      "source": [
        "train1.head()\n",
        "train=train1"
      ],
      "execution_count": 0,
      "outputs": []
    },
    {
      "cell_type": "code",
      "metadata": {
        "id": "W6KgHYniFT-_",
        "colab_type": "code",
        "colab": {
          "base_uri": "https://localhost:8080/",
          "height": 118
        },
        "outputId": "9fd2874c-2d44-4b71-a7c4-d6fb8282eb60"
      },
      "source": [
        "train['tweet'] = train['tweet'].apply(lambda x: \" \".join(x.lower() for x in x.split()))\n",
        "train['tweet'].head()"
      ],
      "execution_count": 16,
      "outputs": [
        {
          "output_type": "execute_result",
          "data": {
            "text/plain": [
              "0    #studiolife #aislife #requires #passion #dedic...\n",
              "1    @user #white #supremacists want everyone to se...\n",
              "2    safe ways to heal your #acne!! #altwaystoheal ...\n",
              "3    is the hp and the cursed child book up for res...\n",
              "4    3rd #bihday to my amazing, hilarious #nephew e...\n",
              "Name: tweet, dtype: object"
            ]
          },
          "metadata": {
            "tags": []
          },
          "execution_count": 16
        }
      ]
    },
    {
      "cell_type": "code",
      "metadata": {
        "id": "lggEXJ0yFa8g",
        "colab_type": "code",
        "colab": {
          "base_uri": "https://localhost:8080/",
          "height": 118
        },
        "outputId": "df3a136c-81a1-41c3-fb0a-4444ee3dc7c4"
      },
      "source": [
        "train['tweet'] = train['tweet'].str.replace('[^\\w\\s]','')\n",
        "train['tweet'].head()"
      ],
      "execution_count": 17,
      "outputs": [
        {
          "output_type": "execute_result",
          "data": {
            "text/plain": [
              "0    studiolife aislife requires passion dedication...\n",
              "1    user white supremacists want everyone to see t...\n",
              "2    safe ways to heal your acne altwaystoheal heal...\n",
              "3    is the hp and the cursed child book up for res...\n",
              "4    3rd bihday to my amazing hilarious nephew eli ...\n",
              "Name: tweet, dtype: object"
            ]
          },
          "metadata": {
            "tags": []
          },
          "execution_count": 17
        }
      ]
    },
    {
      "cell_type": "code",
      "metadata": {
        "id": "znuP032JFhWN",
        "colab_type": "code",
        "colab": {
          "base_uri": "https://localhost:8080/",
          "height": 151
        },
        "outputId": "95c6e586-0bda-487c-bf47-9eecac18c1f1"
      },
      "source": [
        "nltk.download('stopwords')\n",
        "stop = stopwords.words('english')\n",
        "train['tweet'] = train['tweet'].apply(lambda x: \" \".join(x for x in x.split() if x not in stop))\n",
        "train['tweet'].head()"
      ],
      "execution_count": 21,
      "outputs": [
        {
          "output_type": "stream",
          "text": [
            "[nltk_data] Downloading package stopwords to /root/nltk_data...\n",
            "[nltk_data]   Unzipping corpora/stopwords.zip.\n"
          ],
          "name": "stdout"
        },
        {
          "output_type": "execute_result",
          "data": {
            "text/plain": [
              "0    studiolife aislife requires passion dedication...\n",
              "1    user white supremacists want everyone see new ...\n",
              "2    safe ways heal acne altwaystoheal healthy healing\n",
              "3    hp cursed child book reservations already yes ...\n",
              "4    3rd bihday amazing hilarious nephew eli ahmir ...\n",
              "Name: tweet, dtype: object"
            ]
          },
          "metadata": {
            "tags": []
          },
          "execution_count": 21
        }
      ]
    },
    {
      "cell_type": "code",
      "metadata": {
        "id": "QmWZ4pAWGMNq",
        "colab_type": "code",
        "colab": {
          "base_uri": "https://localhost:8080/",
          "height": 118
        },
        "outputId": "f4119172-9a3e-4b02-96d1-13aff86cfca4"
      },
      "source": [
        "train['tweet'][:5].apply(lambda x: str(TextBlob(x).correct()))\n",
        "train['tweet'].head()"
      ],
      "execution_count": 22,
      "outputs": [
        {
          "output_type": "execute_result",
          "data": {
            "text/plain": [
              "0    studiolife aislife requires passion dedication...\n",
              "1    user white supremacists want everyone see new ...\n",
              "2    safe ways heal acne altwaystoheal healthy healing\n",
              "3    hp cursed child book reservations already yes ...\n",
              "4    3rd bihday amazing hilarious nephew eli ahmir ...\n",
              "Name: tweet, dtype: object"
            ]
          },
          "metadata": {
            "tags": []
          },
          "execution_count": 22
        }
      ]
    },
    {
      "cell_type": "code",
      "metadata": {
        "id": "Z1Rrb2wdHegF",
        "colab_type": "code",
        "colab": {
          "base_uri": "https://localhost:8080/",
          "height": 118
        },
        "outputId": "3ea42c9c-2427-4bf4-c9ca-67af6b767072"
      },
      "source": [
        "#Stemming \n",
        "\n",
        "st = PorterStemmer()\n",
        "train['tweet'][:5].apply(lambda x: \" \".join([st.stem(word) for word in x.split()]))"
      ],
      "execution_count": 23,
      "outputs": [
        {
          "output_type": "execute_result",
          "data": {
            "text/plain": [
              "0    studiolif aislif requir passion dedic willpow ...\n",
              "1    user white supremacist want everyon see new â ...\n",
              "2            safe way heal acn altwaystoh healthi heal\n",
              "3    hp curs child book reserv alreadi ye ððð harry...\n",
              "4    3rd bihday amaz hilari nephew eli ahmir uncl d...\n",
              "Name: tweet, dtype: object"
            ]
          },
          "metadata": {
            "tags": []
          },
          "execution_count": 23
        }
      ]
    },
    {
      "cell_type": "code",
      "metadata": {
        "id": "BKezav4zHr0q",
        "colab_type": "code",
        "colab": {
          "base_uri": "https://localhost:8080/",
          "height": 118
        },
        "outputId": "4ee8dcbb-a26e-4c14-ab8f-9515ac921444"
      },
      "source": [
        "from nltk.stem import WordNetLemmatizer\n",
        "lemmatizer = WordNetLemmatizer()\n",
        "train['tweet'] = train['tweet'].apply(lambda x: \" \".join([Word(word).lemmatize() for word in x.split()]))\n",
        "train['tweet'].head()"
      ],
      "execution_count": 25,
      "outputs": [
        {
          "output_type": "execute_result",
          "data": {
            "text/plain": [
              "0    studiolife aislife requires passion dedication...\n",
              "1    user white supremacist want everyone see new â...\n",
              "2     safe way heal acne altwaystoheal healthy healing\n",
              "3    hp cursed child book reservation already yes ð...\n",
              "4    3rd bihday amazing hilarious nephew eli ahmir ...\n",
              "Name: tweet, dtype: object"
            ]
          },
          "metadata": {
            "tags": []
          },
          "execution_count": 25
        }
      ]
    },
    {
      "cell_type": "code",
      "metadata": {
        "id": "hpnOIydBH02i",
        "colab_type": "code",
        "colab": {
          "base_uri": "https://localhost:8080/",
          "height": 134
        },
        "outputId": "e5af6ede-258f-4425-a077-cf4c7bf22e1a"
      },
      "source": [
        "TextBlob(train['tweet'][0]).ngrams(2)"
      ],
      "execution_count": 27,
      "outputs": [
        {
          "output_type": "execute_result",
          "data": {
            "text/plain": [
              "[WordList(['studiolife', 'aislife']),\n",
              " WordList(['aislife', 'requires']),\n",
              " WordList(['requires', 'passion']),\n",
              " WordList(['passion', 'dedication']),\n",
              " WordList(['dedication', 'willpower']),\n",
              " WordList(['willpower', 'find']),\n",
              " WordList(['find', 'newmaterialsâ'])]"
            ]
          },
          "metadata": {
            "tags": []
          },
          "execution_count": 27
        }
      ]
    },
    {
      "cell_type": "code",
      "metadata": {
        "id": "jl4tlBWDICj5",
        "colab_type": "code",
        "colab": {}
      },
      "source": [
        "\n",
        "train['sentiment'] = train['tweet'].apply(lambda x: TextBlob(x).sentiment[0] )"
      ],
      "execution_count": 0,
      "outputs": []
    },
    {
      "cell_type": "code",
      "metadata": {
        "id": "G2ChJPtdIJOB",
        "colab_type": "code",
        "colab": {
          "base_uri": "https://localhost:8080/",
          "height": 1882
        },
        "outputId": "6a39fcb1-6ca0-404a-f9d2-604492c0debb"
      },
      "source": [
        "train"
      ],
      "execution_count": 29,
      "outputs": [
        {
          "output_type": "execute_result",
          "data": {
            "text/html": [
              "<div>\n",
              "<style scoped>\n",
              "    .dataframe tbody tr th:only-of-type {\n",
              "        vertical-align: middle;\n",
              "    }\n",
              "\n",
              "    .dataframe tbody tr th {\n",
              "        vertical-align: top;\n",
              "    }\n",
              "\n",
              "    .dataframe thead th {\n",
              "        text-align: right;\n",
              "    }\n",
              "</style>\n",
              "<table border=\"1\" class=\"dataframe\">\n",
              "  <thead>\n",
              "    <tr style=\"text-align: right;\">\n",
              "      <th></th>\n",
              "      <th>id</th>\n",
              "      <th>tweet</th>\n",
              "      <th>sentiment</th>\n",
              "    </tr>\n",
              "  </thead>\n",
              "  <tbody>\n",
              "    <tr>\n",
              "      <th>0</th>\n",
              "      <td>31963</td>\n",
              "      <td>studiolife aislife requires passion dedication...</td>\n",
              "      <td>0.000000</td>\n",
              "    </tr>\n",
              "    <tr>\n",
              "      <th>1</th>\n",
              "      <td>31964</td>\n",
              "      <td>user white supremacist want everyone see new â...</td>\n",
              "      <td>0.068182</td>\n",
              "    </tr>\n",
              "    <tr>\n",
              "      <th>2</th>\n",
              "      <td>31965</td>\n",
              "      <td>safe way heal acne altwaystoheal healthy healing</td>\n",
              "      <td>0.500000</td>\n",
              "    </tr>\n",
              "    <tr>\n",
              "      <th>3</th>\n",
              "      <td>31966</td>\n",
              "      <td>hp cursed child book reservation already yes ð...</td>\n",
              "      <td>0.500000</td>\n",
              "    </tr>\n",
              "    <tr>\n",
              "      <th>4</th>\n",
              "      <td>31967</td>\n",
              "      <td>3rd bihday amazing hilarious nephew eli ahmir ...</td>\n",
              "      <td>0.400000</td>\n",
              "    </tr>\n",
              "    <tr>\n",
              "      <th>5</th>\n",
              "      <td>31968</td>\n",
              "      <td>choose momtips</td>\n",
              "      <td>0.000000</td>\n",
              "    </tr>\n",
              "    <tr>\n",
              "      <th>6</th>\n",
              "      <td>31969</td>\n",
              "      <td>something inside dy ððâ eye ness smokeyeyes ti...</td>\n",
              "      <td>-0.250000</td>\n",
              "    </tr>\n",
              "    <tr>\n",
              "      <th>7</th>\n",
              "      <td>31970</td>\n",
              "      <td>finishedtattooinkedinkloveitâï âïâïâïâï thanks...</td>\n",
              "      <td>0.000000</td>\n",
              "    </tr>\n",
              "    <tr>\n",
              "      <th>8</th>\n",
              "      <td>31971</td>\n",
              "      <td>user user user never understand dad left young...</td>\n",
              "      <td>0.033333</td>\n",
              "    </tr>\n",
              "    <tr>\n",
              "      <th>9</th>\n",
              "      <td>31972</td>\n",
              "      <td>delicious food lovelife capetown mannaepicure ...</td>\n",
              "      <td>1.000000</td>\n",
              "    </tr>\n",
              "    <tr>\n",
              "      <th>10</th>\n",
              "      <td>31973</td>\n",
              "      <td>1000dayswasted narcosis infinite ep make aware...</td>\n",
              "      <td>0.050000</td>\n",
              "    </tr>\n",
              "    <tr>\n",
              "      <th>11</th>\n",
              "      <td>31974</td>\n",
              "      <td>one world greatest spoing event lemans24 teamaudi</td>\n",
              "      <td>1.000000</td>\n",
              "    </tr>\n",
              "    <tr>\n",
              "      <th>12</th>\n",
              "      <td>31975</td>\n",
              "      <td>half way website allgoingwell</td>\n",
              "      <td>-0.166667</td>\n",
              "    </tr>\n",
              "    <tr>\n",
              "      <th>13</th>\n",
              "      <td>31976</td>\n",
              "      <td>good food good life enjoy ðððððð called garlic...</td>\n",
              "      <td>0.600000</td>\n",
              "    </tr>\n",
              "    <tr>\n",
              "      <th>14</th>\n",
              "      <td>31977</td>\n",
              "      <td>ill stand behind guncontrolplease senselesssho...</td>\n",
              "      <td>-0.450000</td>\n",
              "    </tr>\n",
              "    <tr>\n",
              "      <th>15</th>\n",
              "      <td>31978</td>\n",
              "      <td>atei ate ateðð jamaisasthi fish curry prawn hi...</td>\n",
              "      <td>0.000000</td>\n",
              "    </tr>\n",
              "    <tr>\n",
              "      <th>16</th>\n",
              "      <td>31979</td>\n",
              "      <td>user got user limited edition rain shine set t...</td>\n",
              "      <td>-0.071429</td>\n",
              "    </tr>\n",
              "    <tr>\n",
              "      <th>17</th>\n",
              "      <td>31980</td>\n",
              "      <td>amp love amp hug amp kiss keep baby parenting ...</td>\n",
              "      <td>0.500000</td>\n",
              "    </tr>\n",
              "    <tr>\n",
              "      <th>18</th>\n",
              "      <td>31981</td>\n",
              "      <td>ððð girl sun fave london united kingdom</td>\n",
              "      <td>0.000000</td>\n",
              "    </tr>\n",
              "    <tr>\n",
              "      <th>19</th>\n",
              "      <td>31982</td>\n",
              "      <td>thought factory bbc neutrality right wing fasc...</td>\n",
              "      <td>0.285714</td>\n",
              "    </tr>\n",
              "    <tr>\n",
              "      <th>20</th>\n",
              "      <td>31983</td>\n",
              "      <td>hey guy tommorow last day exam im happy yay</td>\n",
              "      <td>0.400000</td>\n",
              "    </tr>\n",
              "    <tr>\n",
              "      <th>21</th>\n",
              "      <td>31984</td>\n",
              "      <td>user user user levyrroni recuerdos memoriesðâð...</td>\n",
              "      <td>0.000000</td>\n",
              "    </tr>\n",
              "    <tr>\n",
              "      <th>22</th>\n",
              "      <td>31985</td>\n",
              "      <td>mind like ððð½ð body like ðððµð½ sleepy stilla...</td>\n",
              "      <td>0.000000</td>\n",
              "    </tr>\n",
              "    <tr>\n",
              "      <th>23</th>\n",
              "      <td>31986</td>\n",
              "      <td>never entire life</td>\n",
              "      <td>0.000000</td>\n",
              "    </tr>\n",
              "    <tr>\n",
              "      <th>24</th>\n",
              "      <td>31987</td>\n",
              "      <td>check twitterww trend trending worldwide 1114 ...</td>\n",
              "      <td>0.000000</td>\n",
              "    </tr>\n",
              "    <tr>\n",
              "      <th>25</th>\n",
              "      <td>31988</td>\n",
              "      <td>thought saw mermaid ceegee smcr inshot girl cu...</td>\n",
              "      <td>0.500000</td>\n",
              "    </tr>\n",
              "    <tr>\n",
              "      <th>26</th>\n",
              "      <td>31989</td>\n",
              "      <td>chick get fucked hottest naked lady</td>\n",
              "      <td>-0.300000</td>\n",
              "    </tr>\n",
              "    <tr>\n",
              "      <th>27</th>\n",
              "      <td>31990</td>\n",
              "      <td>happy bday lucyââð xoxo love beautiful pizza i...</td>\n",
              "      <td>0.716667</td>\n",
              "    </tr>\n",
              "    <tr>\n",
              "      <th>28</th>\n",
              "      <td>31991</td>\n",
              "      <td>haroldfriday weekend filled sunbeam everyone h...</td>\n",
              "      <td>0.450000</td>\n",
              "    </tr>\n",
              "    <tr>\n",
              "      <th>29</th>\n",
              "      <td>31992</td>\n",
              "      <td>user user tried nothing try know loved 2 3rd l...</td>\n",
              "      <td>0.366667</td>\n",
              "    </tr>\n",
              "    <tr>\n",
              "      <th>...</th>\n",
              "      <td>...</td>\n",
              "      <td>...</td>\n",
              "      <td>...</td>\n",
              "    </tr>\n",
              "    <tr>\n",
              "      <th>17167</th>\n",
              "      <td>49130</td>\n",
              "      <td>people anything fucking attention nowadays ð</td>\n",
              "      <td>-0.600000</td>\n",
              "    </tr>\n",
              "    <tr>\n",
              "      <th>17168</th>\n",
              "      <td>49131</td>\n",
              "      <td>creative bubble got burst ð looking forward da...</td>\n",
              "      <td>0.500000</td>\n",
              "    </tr>\n",
              "    <tr>\n",
              "      <th>17169</th>\n",
              "      <td>49132</td>\n",
              "      <td>tomorrow gonna big day going deliver first box...</td>\n",
              "      <td>0.125000</td>\n",
              "    </tr>\n",
              "    <tr>\n",
              "      <th>17170</th>\n",
              "      <td>49133</td>\n",
              "      <td>thankful baby giggle thankful positive</td>\n",
              "      <td>0.227273</td>\n",
              "    </tr>\n",
              "    <tr>\n",
              "      <th>17171</th>\n",
              "      <td>49134</td>\n",
              "      <td>model love u take u time urð ðððð ððð</td>\n",
              "      <td>0.500000</td>\n",
              "    </tr>\n",
              "    <tr>\n",
              "      <th>17172</th>\n",
              "      <td>49135</td>\n",
              "      <td>life u grow learn pple work fuck u coz ur life...</td>\n",
              "      <td>0.050000</td>\n",
              "    </tr>\n",
              "    <tr>\n",
              "      <th>17173</th>\n",
              "      <td>49136</td>\n",
              "      <td>ði stormyou rain together destroyed town becam...</td>\n",
              "      <td>0.500000</td>\n",
              "    </tr>\n",
              "    <tr>\n",
              "      <th>17174</th>\n",
              "      <td>49137</td>\n",
              "      <td>lovelgq broken ep via rnb love heabroken hea d...</td>\n",
              "      <td>0.050000</td>\n",
              "    </tr>\n",
              "    <tr>\n",
              "      <th>17175</th>\n",
              "      <td>49138</td>\n",
              "      <td>spread love hateâïðððð prayingfororlando lovea...</td>\n",
              "      <td>-0.125000</td>\n",
              "    </tr>\n",
              "    <tr>\n",
              "      <th>17176</th>\n",
              "      <td>49139</td>\n",
              "      <td>user user racist pay ever</td>\n",
              "      <td>0.000000</td>\n",
              "    </tr>\n",
              "    <tr>\n",
              "      <th>17177</th>\n",
              "      <td>49140</td>\n",
              "      <td>thankful child thankful positive</td>\n",
              "      <td>0.227273</td>\n",
              "    </tr>\n",
              "    <tr>\n",
              "      <th>17178</th>\n",
              "      <td>49141</td>\n",
              "      <td>liverpool âïðð walk liverpool starbucks avidae...</td>\n",
              "      <td>0.000000</td>\n",
              "    </tr>\n",
              "    <tr>\n",
              "      <th>17179</th>\n",
              "      <td>49142</td>\n",
              "      <td>bakersfield rooster simulation want climb vast...</td>\n",
              "      <td>0.000000</td>\n",
              "    </tr>\n",
              "    <tr>\n",
              "      <th>17180</th>\n",
              "      <td>49143</td>\n",
              "      <td>por sol ó¾âïinstagood beautiful instadaily ins...</td>\n",
              "      <td>0.600000</td>\n",
              "    </tr>\n",
              "    <tr>\n",
              "      <th>17181</th>\n",
              "      <td>49144</td>\n",
              "      <td>user hell yeah great surprise present enjoy pi...</td>\n",
              "      <td>0.400000</td>\n",
              "    </tr>\n",
              "    <tr>\n",
              "      <th>17182</th>\n",
              "      <td>49145</td>\n",
              "      <td>ur joke ur defensive towards everythingð</td>\n",
              "      <td>0.000000</td>\n",
              "    </tr>\n",
              "    <tr>\n",
              "      <th>17183</th>\n",
              "      <td>49146</td>\n",
              "      <td>enjoying evening sun bedroom â cozy evening ð ...</td>\n",
              "      <td>0.150000</td>\n",
              "    </tr>\n",
              "    <tr>\n",
              "      <th>17184</th>\n",
              "      <td>49147</td>\n",
              "      <td>tonight user 9pm gmt special early play new so...</td>\n",
              "      <td>0.197835</td>\n",
              "    </tr>\n",
              "    <tr>\n",
              "      <th>17185</th>\n",
              "      <td>49148</td>\n",
              "      <td>today good day excercise imready sofuckenready...</td>\n",
              "      <td>0.700000</td>\n",
              "    </tr>\n",
              "    <tr>\n",
              "      <th>17186</th>\n",
              "      <td>49149</td>\n",
              "      <td>good night tea music âïððð billy music tea mug...</td>\n",
              "      <td>0.700000</td>\n",
              "    </tr>\n",
              "    <tr>\n",
              "      <th>17187</th>\n",
              "      <td>49150</td>\n",
              "      <td>loving lifeðºðâïð createyourfuture lifestyle h...</td>\n",
              "      <td>0.275000</td>\n",
              "    </tr>\n",
              "    <tr>\n",
              "      <th>17188</th>\n",
              "      <td>49151</td>\n",
              "      <td>black professor demonizes proposes nazi style ...</td>\n",
              "      <td>-0.083333</td>\n",
              "    </tr>\n",
              "    <tr>\n",
              "      <th>17189</th>\n",
              "      <td>49152</td>\n",
              "      <td>learn think positive positive instagram instagood</td>\n",
              "      <td>0.227273</td>\n",
              "    </tr>\n",
              "    <tr>\n",
              "      <th>17190</th>\n",
              "      <td>49153</td>\n",
              "      <td>love pretty happy fresh teenilicious fixdermat...</td>\n",
              "      <td>0.400000</td>\n",
              "    </tr>\n",
              "    <tr>\n",
              "      <th>17191</th>\n",
              "      <td>49154</td>\n",
              "      <td>2_damn_tuffruff_muff__techno_cityng005web1997u...</td>\n",
              "      <td>0.000000</td>\n",
              "    </tr>\n",
              "    <tr>\n",
              "      <th>17192</th>\n",
              "      <td>49155</td>\n",
              "      <td>thought factory leftright polarisation trump u...</td>\n",
              "      <td>0.000000</td>\n",
              "    </tr>\n",
              "    <tr>\n",
              "      <th>17193</th>\n",
              "      <td>49156</td>\n",
              "      <td>feeling like mermaid ð hairflip neverready for...</td>\n",
              "      <td>0.000000</td>\n",
              "    </tr>\n",
              "    <tr>\n",
              "      <th>17194</th>\n",
              "      <td>49157</td>\n",
              "      <td>hillary campaigned today ohioomg amp used word...</td>\n",
              "      <td>0.000000</td>\n",
              "    </tr>\n",
              "    <tr>\n",
              "      <th>17195</th>\n",
              "      <td>49158</td>\n",
              "      <td>happy work conference right mindset lead cultu...</td>\n",
              "      <td>0.542857</td>\n",
              "    </tr>\n",
              "    <tr>\n",
              "      <th>17196</th>\n",
              "      <td>49159</td>\n",
              "      <td>song glad free download shoegaze newmusic newsong</td>\n",
              "      <td>0.450000</td>\n",
              "    </tr>\n",
              "  </tbody>\n",
              "</table>\n",
              "<p>17197 rows × 3 columns</p>\n",
              "</div>"
            ],
            "text/plain": [
              "          id                                              tweet  sentiment\n",
              "0      31963  studiolife aislife requires passion dedication...   0.000000\n",
              "1      31964  user white supremacist want everyone see new â...   0.068182\n",
              "2      31965   safe way heal acne altwaystoheal healthy healing   0.500000\n",
              "3      31966  hp cursed child book reservation already yes ð...   0.500000\n",
              "4      31967  3rd bihday amazing hilarious nephew eli ahmir ...   0.400000\n",
              "5      31968                                     choose momtips   0.000000\n",
              "6      31969  something inside dy ððâ eye ness smokeyeyes ti...  -0.250000\n",
              "7      31970  finishedtattooinkedinkloveitâï âïâïâïâï thanks...   0.000000\n",
              "8      31971  user user user never understand dad left young...   0.033333\n",
              "9      31972  delicious food lovelife capetown mannaepicure ...   1.000000\n",
              "10     31973  1000dayswasted narcosis infinite ep make aware...   0.050000\n",
              "11     31974  one world greatest spoing event lemans24 teamaudi   1.000000\n",
              "12     31975                      half way website allgoingwell  -0.166667\n",
              "13     31976  good food good life enjoy ðððððð called garlic...   0.600000\n",
              "14     31977  ill stand behind guncontrolplease senselesssho...  -0.450000\n",
              "15     31978  atei ate ateðð jamaisasthi fish curry prawn hi...   0.000000\n",
              "16     31979  user got user limited edition rain shine set t...  -0.071429\n",
              "17     31980  amp love amp hug amp kiss keep baby parenting ...   0.500000\n",
              "18     31981            ððð girl sun fave london united kingdom   0.000000\n",
              "19     31982  thought factory bbc neutrality right wing fasc...   0.285714\n",
              "20     31983        hey guy tommorow last day exam im happy yay   0.400000\n",
              "21     31984  user user user levyrroni recuerdos memoriesðâð...   0.000000\n",
              "22     31985  mind like ððð½ð body like ðððµð½ sleepy stilla...   0.000000\n",
              "23     31986                                  never entire life   0.000000\n",
              "24     31987  check twitterww trend trending worldwide 1114 ...   0.000000\n",
              "25     31988  thought saw mermaid ceegee smcr inshot girl cu...   0.500000\n",
              "26     31989                chick get fucked hottest naked lady  -0.300000\n",
              "27     31990  happy bday lucyââð xoxo love beautiful pizza i...   0.716667\n",
              "28     31991  haroldfriday weekend filled sunbeam everyone h...   0.450000\n",
              "29     31992  user user tried nothing try know loved 2 3rd l...   0.366667\n",
              "...      ...                                                ...        ...\n",
              "17167  49130       people anything fucking attention nowadays ð  -0.600000\n",
              "17168  49131  creative bubble got burst ð looking forward da...   0.500000\n",
              "17169  49132  tomorrow gonna big day going deliver first box...   0.125000\n",
              "17170  49133             thankful baby giggle thankful positive   0.227273\n",
              "17171  49134              model love u take u time urð ðððð ððð   0.500000\n",
              "17172  49135  life u grow learn pple work fuck u coz ur life...   0.050000\n",
              "17173  49136  ði stormyou rain together destroyed town becam...   0.500000\n",
              "17174  49137  lovelgq broken ep via rnb love heabroken hea d...   0.050000\n",
              "17175  49138  spread love hateâïðððð prayingfororlando lovea...  -0.125000\n",
              "17176  49139                          user user racist pay ever   0.000000\n",
              "17177  49140                   thankful child thankful positive   0.227273\n",
              "17178  49141  liverpool âïðð walk liverpool starbucks avidae...   0.000000\n",
              "17179  49142  bakersfield rooster simulation want climb vast...   0.000000\n",
              "17180  49143  por sol ó¾âïinstagood beautiful instadaily ins...   0.600000\n",
              "17181  49144  user hell yeah great surprise present enjoy pi...   0.400000\n",
              "17182  49145           ur joke ur defensive towards everythingð   0.000000\n",
              "17183  49146  enjoying evening sun bedroom â cozy evening ð ...   0.150000\n",
              "17184  49147  tonight user 9pm gmt special early play new so...   0.197835\n",
              "17185  49148  today good day excercise imready sofuckenready...   0.700000\n",
              "17186  49149  good night tea music âïððð billy music tea mug...   0.700000\n",
              "17187  49150  loving lifeðºðâïð createyourfuture lifestyle h...   0.275000\n",
              "17188  49151  black professor demonizes proposes nazi style ...  -0.083333\n",
              "17189  49152  learn think positive positive instagram instagood   0.227273\n",
              "17190  49153  love pretty happy fresh teenilicious fixdermat...   0.400000\n",
              "17191  49154  2_damn_tuffruff_muff__techno_cityng005web1997u...   0.000000\n",
              "17192  49155  thought factory leftright polarisation trump u...   0.000000\n",
              "17193  49156  feeling like mermaid ð hairflip neverready for...   0.000000\n",
              "17194  49157  hillary campaigned today ohioomg amp used word...   0.000000\n",
              "17195  49158  happy work conference right mindset lead cultu...   0.542857\n",
              "17196  49159  song glad free download shoegaze newmusic newsong   0.450000\n",
              "\n",
              "[17197 rows x 3 columns]"
            ]
          },
          "metadata": {
            "tags": []
          },
          "execution_count": 29
        }
      ]
    },
    {
      "cell_type": "code",
      "metadata": {
        "id": "M3WOJWoyIMyL",
        "colab_type": "code",
        "colab": {}
      },
      "source": [
        ""
      ],
      "execution_count": 0,
      "outputs": []
    }
  ]
}